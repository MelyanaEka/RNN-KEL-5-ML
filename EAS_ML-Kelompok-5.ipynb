{
  "cells": [
    {
      "cell_type": "code",
      "execution_count": null,
      "metadata": {
        "id": "mOBj7akCzuVx"
      },
      "outputs": [],
      "source": [
        "import pandas as pd\n",
        "import matplotlib.pyplot as plt\n",
        "import numpy as np\n",
        "import tensorflow as tf\n",
        "import re\n",
        "from tensorflow.keras.preprocessing.text import Tokenizer\n",
        "import tensorflow as tf\n",
        "from sklearn.metrics import accuracy_score\n",
        "from sklearn.model_selection import train_test_split\n",
        "from sklearn.metrics import accuracy_score, confusion_matrix, precision_score, recall_score\n",
        "import seaborn as sns\n",
        "plt.style.use('ggplot')"
      ]
    },
    {
      "cell_type": "code",
      "execution_count": null,
      "metadata": {
        "id": "1oOPt51AwlnW"
      },
      "outputs": [],
      "source": [
        "#Memanggil data\n",
        "import pandas as pd\n",
        "fake_df = pd.read_csv(\"Fake.csv\")\n",
        "real_df = pd.read_csv(\"True.csv\")"
      ]
    },
    {
      "cell_type": "code",
      "execution_count": null,
      "metadata": {
        "colab": {
          "base_uri": "https://localhost:8080/"
        },
        "id": "d8DxURoixOkv",
        "outputId": "a14abb6f-4ab2-41ba-c0ae-e43f7c2a70f5"
      },
      "outputs": [],
      "source": [
        "#Mengecek data kosong\n",
        "fake_df.isnull().sum()\n",
        "real_df.isnull().sum()"
      ]
    },
    {
      "cell_type": "code",
      "execution_count": null,
      "metadata": {
        "colab": {
          "base_uri": "https://localhost:8080/"
        },
        "id": "j_mPpzMIxR7N",
        "outputId": "61c474e4-b097-404b-91bf-9ea6781ed84b"
      },
      "outputs": [],
      "source": [
        "#Cek kata-kata unik\n",
        "a = fake_df.subject.unique()\n",
        "b = real_df.subject.unique()\n",
        "print(a)\n",
        "print(b)"
      ]
    },
    {
      "cell_type": "code",
      "execution_count": null,
      "metadata": {
        "id": "6MwcTn8mxXua"
      },
      "outputs": [],
      "source": [
        "#Menghapus tanggal dan subject karena tidak akan digunakan dalam proses klasifikasi\n",
        "fake_df.drop(['date', 'subject'], axis=1, inplace=True)\n",
        "real_df.drop(['date', 'subject'], axis=1, inplace=True)"
      ]
    },
    {
      "cell_type": "code",
      "execution_count": null,
      "metadata": {
        "colab": {
          "base_uri": "https://localhost:8080/"
        },
        "id": "o0o3PlXQxZLp",
        "outputId": "5f1bd9fa-a8a8-4591-f0cc-c13da7064e2c"
      },
      "outputs": [],
      "source": [
        "#Pelabelan data\n",
        "fake_df['class'] = 0\n",
        "real_df['class'] = 1\n",
        "\n",
        "jumlah_fake_df = (fake_df['class'].value_counts())\n",
        "jumlah_real_df = (real_df['class'].value_counts())\n",
        "print(jumlah_fake_df)\n",
        "print(jumlah_real_df)"
      ]
    },
    {
      "cell_type": "code",
      "execution_count": null,
      "metadata": {
        "colab": {
          "base_uri": "https://localhost:8080/",
          "height": 974
        },
        "id": "IGx1diZaxdn_",
        "outputId": "46e3f787-756b-4b06-c53a-eb53e29ad641"
      },
      "outputs": [],
      "source": [
        "\n",
        "plt.figure(figsize=(10, 5))\n",
        "plt.bar('Fake News', len(fake_df), color='orange')\n",
        "plt.bar('Real News', len(real_df), color='green')\n",
        "plt.title('Distribution of Fake News and Real News', size=15)\n",
        "plt.xlabel('News Type', size=15)\n",
        "plt.ylabel('# of News Articles', size=15)\n",
        "\n",
        "\n",
        "total_len = len(fake_df) + len(real_df)\n",
        "plt.figure(figsize=(10, 5))\n",
        "plt.bar('Fake News', len(fake_df) / total_len, color='orange')\n",
        "plt.bar('Real News', len(real_df) / total_len, color='green')\n",
        "plt.title('Distribution of Fake News and Real News', size=15)\n",
        "plt.xlabel('News Type', size=15)\n",
        "plt.ylabel('Proportion of News Articles', size=15)"
      ]
    },
    {
      "cell_type": "code",
      "execution_count": null,
      "metadata": {
        "colab": {
          "base_uri": "https://localhost:8080/"
        },
        "id": "eR2TigCzxgCC",
        "outputId": "f9916dc0-afd4-486d-f558-e98f516eb3d7"
      },
      "outputs": [],
      "source": [
        "#Selisih fake news dan real news\n",
        "print('Difference in news articles:',len(fake_df)-len(real_df))"
      ]
    },
    {
      "cell_type": "code",
      "execution_count": null,
      "metadata": {
        "colab": {
          "base_uri": "https://localhost:8080/",
          "height": 458
        },
        "id": "k7IQqyQ3xgUn",
        "outputId": "303cee3a-6cbd-426c-c9c4-858b6c820782"
      },
      "outputs": [],
      "source": [
        "News_df = pd.concat([fake_df, real_df], ignore_index=True, sort=False)\n",
        "news_df"
      ]
    },
    {
      "cell_type": "code",
      "execution_count": null,
      "metadata": {
        "id": "1XvBK34yxiSh"
      },
      "outputs": [],
      "source": [
        "#Menggabungkan tittle dan teks\n",
        "news_df['text'] = news_df['title'] + news_df['text']\n",
        "news_df.drop('title', axis=1, inplace=True)"
      ]
    },
    {
      "cell_type": "code",
      "execution_count": null,
      "metadata": {
        "id": "NNU6IQPTxkB-"
      },
      "outputs": [],
      "source": [
        "#Membagi data menjadi training dan testing\n",
        "features = news_df['text']\n",
        "targets = news_df['class']\n",
        "\n",
        "X_train, X_test, y_train, y_test = train_test_split(features, targets, test_size=0.20, random_state=18)"
      ]
    },
    {
      "cell_type": "code",
      "execution_count": null,
      "metadata": {
        "id": "Jh1QaXjtxln1"
      },
      "outputs": [],
      "source": [
        "#Menghilangkan huruf kecil, spasi, dan link\n",
        "def normalize(data):\n",
        "    normalized = []\n",
        "    for i in data:\n",
        "        i = i.lower()\n",
        "        # get rid of urls\n",
        "        i = re.sub('https?://\\S+|www\\.\\S+', '', i)\n",
        "        # get rid of non words and extra spaces\n",
        "        i = re.sub('\\\\W', ' ', i)\n",
        "        i = re.sub('\\n', '', i)\n",
        "        i = re.sub(' +', ' ', i)\n",
        "        i = re.sub('^ ', '', i)\n",
        "        i = re.sub(' $', '', i)\n",
        "        normalized.append(i)\n",
        "    return normalized\n",
        "\n",
        "X_train = normalize(X_train)\n",
        "X_test = normalize(X_test)"
      ]
    },
    {
      "cell_type": "code",
      "execution_count": null,
      "metadata": {
        "id": "atnc5Jzxxofi"
      },
      "outputs": [],
      "source": [
        "max_vocab = 10000\n",
        "tokenizer = Tokenizer(num_words=max_vocab)\n",
        "tokenizer.fit_on_texts(X_train)"
      ]
    },
    {
      "cell_type": "code",
      "execution_count": null,
      "metadata": {
        "id": "1W77s5FOxqZo"
      },
      "outputs": [],
      "source": [
        "#Mengubah teks menjadi vektor\n",
        "X_train = tokenizer.texts_to_sequences(X_train)\n",
        "X_test = tokenizer.texts_to_sequences(X_test)"
      ]
    },
    {
      "cell_type": "code",
      "execution_count": null,
      "metadata": {
        "colab": {
          "base_uri": "https://localhost:8080/"
        },
        "id": "quQFRB1Xxs5X",
        "outputId": "91a15482-42f1-425f-93f1-b663500a2caa"
      },
      "outputs": [],
      "source": [
        "X_train = tf.keras.preprocessing.sequence.pad_sequences(X_train, padding='post', maxlen=256)\n",
        "X_test = tf.keras.preprocessing.sequence.pad_sequences(X_test, padding='post', maxlen=256)\n",
        "for i, doc in enumerate(X_train[:5]):\n",
        "  print(\"The padded encoding for document\", i+1, \"is :\", doc)"
      ]
    },
    {
      "cell_type": "code",
      "execution_count": null,
      "metadata": {
        "colab": {
          "base_uri": "https://localhost:8080/"
        },
        "id": "5SMEYP9LyEi5",
        "outputId": "d7471fa6-1963-48a6-e2d1-dd7d00e40b99"
      },
      "outputs": [],
      "source": [
        "#Pembentukan model\n",
        "model = tf.keras.Sequential([\n",
        "    tf.keras.layers.Embedding(max_vocab, 128),\n",
        "    tf.keras.layers.Bidirectional(tf.keras.layers.LSTM(64,  return_sequences=True)),\n",
        "    tf.keras.layers.Bidirectional(tf.keras.layers.LSTM(16)),\n",
        "    tf.keras.layers.Dense(64, activation='relu'),\n",
        "    tf.keras.layers.Dropout(0.5),\n",
        "    tf.keras.layers.Dense(1)\n",
        "])\n",
        "\n",
        "model.summary()"
      ]
    },
    {
      "cell_type": "code",
      "execution_count": null,
      "metadata": {
        "colab": {
          "base_uri": "https://localhost:8080/"
        },
        "id": "GGw9JsIbyHgw",
        "outputId": "e73b4526-113b-40ad-a1a2-e7eabc184355"
      },
      "outputs": [],
      "source": [
        "early_stop = tf.keras.callbacks.EarlyStopping(monitor='val_loss', patience=2, restore_best_weights=True)\n",
        "model.compile(loss=tf.keras.losses.BinaryCrossentropy(from_logits=True),\n",
        "              optimizer=tf.keras.optimizers.Adam(1e-4),\n",
        "              metrics=['accuracy'])\n",
        "\n",
        "history = model.fit(X_train, y_train, epochs=10,validation_split=0.1, batch_size=30, shuffle=True, callbacks=[early_stop])"
      ]
    },
    {
      "cell_type": "code",
      "execution_count": null,
      "metadata": {
        "colab": {
          "base_uri": "https://localhost:8080/",
          "height": 1000
        },
        "id": "Njg89jPFyJ72",
        "outputId": "21aac6cc-69f5-48fa-f216-de69e8409200"
      },
      "outputs": [],
      "source": [
        "#Visualisasi data training\n",
        "history_dict = history.history\n",
        "\n",
        "acc = history_dict['accuracy']\n",
        "val_acc = history_dict['val_accuracy']\n",
        "loss = history_dict['loss']\n",
        "val_loss = history_dict['val_loss']\n",
        "epochs = history.epoch\n",
        "\n",
        "plt.figure(figsize=(12,9))\n",
        "plt.plot(epochs, loss, 'r', label='Training loss')\n",
        "plt.plot(epochs, val_loss, 'b', label='Validation loss')\n",
        "plt.title('Training and validation loss', size=20)\n",
        "plt.xlabel('Epochs', size=20)\n",
        "plt.ylabel('Loss', size=20)\n",
        "plt.legend(prop={'size': 20})\n",
        "plt.show()\n",
        "\n",
        "plt.figure(figsize=(12,9))\n",
        "plt.plot(epochs, acc, 'g', label='Training acc')\n",
        "plt.plot(epochs, val_acc, 'b', label='Validation acc')\n",
        "plt.title('Training and validation accuracy', size=20)\n",
        "plt.xlabel('Epochs', size=20)\n",
        "plt.ylabel('Accuracy', size=20)\n",
        "plt.legend(prop={'size': 20})\n",
        "plt.ylim((0.5,1))\n",
        "plt.show()"
      ]
    },
    {
      "cell_type": "code",
      "execution_count": null,
      "metadata": {
        "colab": {
          "base_uri": "https://localhost:8080/"
        },
        "id": "p1jIfF6TyPjn",
        "outputId": "a051e357-f736-4e99-f348-86edd5d9f9d0"
      },
      "outputs": [],
      "source": [
        "#Evaluasi data testing\n",
        "model.evaluate(X_test, y_test)"
      ]
    },
    {
      "cell_type": "code",
      "execution_count": null,
      "metadata": {
        "colab": {
          "base_uri": "https://localhost:8080/"
        },
        "id": "Ic-Ribk8yR8-",
        "outputId": "2858384b-a696-49cc-8e71-bc94de3192f7"
      },
      "outputs": [],
      "source": [
        "pred = model.predict(X_test)\n",
        "\n",
        "binary_predictions = []\n",
        "\n",
        "for i in pred:\n",
        "    if i >= 0.5:\n",
        "        binary_predictions.append(1)\n",
        "    else:\n",
        "        binary_predictions.append(0)"
      ]
    },
    {
      "cell_type": "code",
      "execution_count": null,
      "metadata": {
        "colab": {
          "base_uri": "https://localhost:8080/"
        },
        "id": "6dH5DydYyTsw",
        "outputId": "204ecb66-769e-4603-8a4a-50e8ea0e7f84"
      },
      "outputs": [],
      "source": [
        "print('Accuracy on testing set:', accuracy_score(binary_predictions, y_test))\n",
        "print('Precision on testing set:', precision_score(binary_predictions, y_test))\n",
        "print('Recall on testing set:', recall_score(binary_predictions, y_test))"
      ]
    },
    {
      "cell_type": "code",
      "execution_count": null,
      "metadata": {
        "colab": {
          "base_uri": "https://localhost:8080/",
          "height": 655
        },
        "id": "ixxCkzq-yV5e",
        "outputId": "2fc4d5f0-4516-4200-8af6-516e8f44ce25"
      },
      "outputs": [],
      "source": [
        "#Confusion matrix\n",
        "matrix = confusion_matrix(binary_predictions, y_test, normalize='all')\n",
        "plt.figure(figsize=(16, 10))\n",
        "ax= plt.subplot()\n",
        "sns.heatmap(matrix, annot=True, ax = ax)\n",
        "\n",
        "# labels, title and ticks\n",
        "ax.set_xlabel('Predicted Labels', size=20)\n",
        "ax.set_ylabel('True Labels', size=20)\n",
        "ax.set_title('Confusion Matrix', size=20)\n",
        "ax.xaxis.set_ticklabels([0,1], size=15)\n",
        "ax.yaxis.set_ticklabels([0,1], size=15)"
      ]
    },
    {
      "cell_type": "code",
      "execution_count": null,
      "metadata": {
        "colab": {
          "base_uri": "https://localhost:8080/"
        },
        "id": "LioZyNxuyY8j",
        "outputId": "057e9238-94a8-4551-996f-fbd999f48826"
      },
      "outputs": [],
      "source": [
        "#Menyimpan bobot untuk visualisasi\n",
        "e = model.layers[0]\n",
        "weights = e.get_weights()[0]\n",
        "print(weights.shape) # shape: (vocab_size, embedding_dim)"
      ]
    }
  ],
  "metadata": {
    "colab": {
      "provenance": []
    },
    "kernelspec": {
      "display_name": "Python 3",
      "name": "python3"
    },
    "language_info": {
      "name": "python"
    }
  },
  "nbformat": 4,
  "nbformat_minor": 0
}
